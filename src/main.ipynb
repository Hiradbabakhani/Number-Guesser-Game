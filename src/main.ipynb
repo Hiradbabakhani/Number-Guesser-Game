{
 "cells": [
  {
   "cell_type": "code",
   "execution_count": 6,
   "metadata": {},
   "outputs": [],
   "source": [
    "import random"
   ]
  },
  {
   "cell_type": "code",
   "execution_count": 7,
   "metadata": {},
   "outputs": [],
   "source": [
    "num_rand = random.randint(0, 100)"
   ]
  },
  {
   "cell_type": "code",
   "execution_count": 8,
   "metadata": {},
   "outputs": [
    {
     "data": {
      "text/plain": [
       "77"
      ]
     },
     "execution_count": 8,
     "metadata": {},
     "output_type": "execute_result"
    }
   ],
   "source": [
    "num_rand"
   ]
  },
  {
   "cell_type": "code",
   "execution_count": 9,
   "metadata": {},
   "outputs": [],
   "source": [
    "def validate_input(user_guess):\n",
    "    if not user_guess.isdigit():\n",
    "        print(\"Invalid input. Please try again.\")\n",
    "        return False\n",
    "\n",
    "    user_guess = int(user_guess)\n",
    "    if user_guess > 100 or user_guess < 1:\n",
    "        print(\"Your guess is out of range. Please try again\")\n",
    "        return False\n",
    "\n",
    "    return True"
   ]
  },
  {
   "cell_type": "code",
   "execution_count": 11,
   "metadata": {},
   "outputs": [
    {
     "name": "stdout",
     "output_type": "stream",
     "text": [
      "Your guess is to low. Plase try again.\n",
      "Your guess is to low. Plase try again.\n",
      "Your guess is to low. Plase try again.\n",
      "Your guess is to high. Please try again.\n",
      "Your guess is to high. Please try again.\n",
      "Your guess is to low. Plase try again.\n",
      "Your guess is to low. Plase try again.\n",
      "Your guess is to high. Please try again.\n",
      "Your guess is to high. Please try again.\n",
      "Congratulations! You guessed the correct number!\n",
      "Your score is: 10 \n"
     ]
    }
   ],
   "source": [
    "score = 100\n",
    "\n",
    "while True:\n",
    "    user_guess = input(\"Guesse a number between 1 and 100: \")\n",
    "\n",
    "    if user_guess == \"q\":\n",
    "        print('Thank you for playing.')\n",
    "        break\n",
    "\n",
    "    if not validate_input(user_guess):\n",
    "        continue\n",
    "\n",
    "    user_guess = int(user_guess)\n",
    "    if num_rand > user_guess:\n",
    "        print(\"Your guess is to low. Plase try again.\")\n",
    "\n",
    "    elif num_rand < user_guess:\n",
    "        print(\"Your guess is to high. Please try again.\")\n",
    "\n",
    "    else:\n",
    "        print(\"Congratulations! You guessed the correct number!\")\n",
    "        print(f\"Your score is: {score} \")\n",
    "        break\n",
    "\n",
    "    score -= 10\n",
    "    score = max(score, 0)"
   ]
  },
  {
   "cell_type": "code",
   "execution_count": null,
   "metadata": {},
   "outputs": [],
   "source": []
  }
 ],
 "metadata": {
  "kernelspec": {
   "display_name": "new-env",
   "language": "python",
   "name": "python3"
  },
  "language_info": {
   "codemirror_mode": {
    "name": "ipython",
    "version": 3
   },
   "file_extension": ".py",
   "mimetype": "text/x-python",
   "name": "python",
   "nbconvert_exporter": "python",
   "pygments_lexer": "ipython3",
   "version": "3.10.14"
  }
 },
 "nbformat": 4,
 "nbformat_minor": 2
}
